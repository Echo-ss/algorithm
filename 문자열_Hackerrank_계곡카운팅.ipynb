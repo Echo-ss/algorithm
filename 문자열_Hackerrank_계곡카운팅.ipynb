{
 "cells": [
  {
   "cell_type": "markdown",
   "metadata": {},
   "source": [
    "# Hackerrank (Counting Valleys)\n",
    "\n",
    "#### 문제\n",
    "Gary is an avid hiker. He tracks his hikes meticulously, paying close attention to small details like topography. During his last hike he took exactly 'n' steps. For every step he took, he noted if it was an uphill,'U' , or a downhill, 'D' step. Gary's hikes start and end at sea level and each step up or down represents a '1' unit change in altitude. We define the following terms:\n",
    "\n",
    "##### A mountain is a sequence of consecutive steps above sea level, starting with a step up from sea level and ending with a step down to sea level.\n",
    "##### A valley is a sequence of consecutive steps below sea level, starting with a step down from sea level and ending with a step up to sea level.\n",
    "\n",
    "Given Gary's sequence of up and down steps during his last hike, find and print the number of valleys he walked through.\n",
    "\n",
    "For example, if Gary's path is s=[DDUUUUDD], he first enters a valley  '2'units deep. Then he climbs out an up onto a mountain  '2'units high. Finally, he returns to sea level and ends his hike.\n",
    "\n",
    "Function Description\n",
    "\n",
    "Complete the countingValleys function in the editor below. It must return an integer that denotes the number of valleys Gary traversed.\n",
    "\n",
    "countingValleys has the following parameter(s):\n",
    "\n",
    "##### n: the number of steps Gary takes\n",
    "##### s: a string describing his path\n",
    "\n",
    "#### Input Format\n",
    "\n",
    "8\n",
    "UDDDUDUU\n",
    "\n",
    "#### Output Format\n",
    "1\n",
    "Print a single integer that denotes the number of valleys Gary walked through during his hike."
   ]
  },
  {
   "cell_type": "code",
   "execution_count": null,
   "metadata": {},
   "outputs": [],
   "source": [
    "#!/bin/python3\n",
    "\n",
    "import math\n",
    "import os\n",
    "import random\n",
    "import re\n",
    "import sys\n",
    "\n",
    "# Complete the countingValleys function below.\n",
    "def countingValleys(n, s):\n",
    "    valley = 0\n",
    "    valley_cnt = 0\n",
    "    for i in s:\n",
    "        if i == 'U':\n",
    "            valley += 1\n",
    "            if valley == 0:\n",
    "                valley_cnt += 1\n",
    "        else:\n",
    "            valley -= 1\n",
    "    \n",
    "    return valley_cnt\n",
    "\n",
    "if __name__ == '__main__':\n",
    "    fptr = open(os.environ['OUTPUT_PATH'], 'w')\n",
    "\n",
    "    n = int(input())\n",
    "\n",
    "    s = input()\n",
    "\n",
    "    result = countingValleys(n, s)\n",
    "\n",
    "    fptr.write(str(result) + '\\n')\n",
    "\n",
    "    fptr.close()\n"
   ]
  }
 ],
 "metadata": {
  "kernelspec": {
   "display_name": "Python 3",
   "language": "python",
   "name": "python3"
  },
  "language_info": {
   "codemirror_mode": {
    "name": "ipython",
    "version": 3
   },
   "file_extension": ".py",
   "mimetype": "text/x-python",
   "name": "python",
   "nbconvert_exporter": "python",
   "pygments_lexer": "ipython3",
   "version": "3.7.3"
  }
 },
 "nbformat": 4,
 "nbformat_minor": 2
}
