{
 "cells": [
  {
   "cell_type": "markdown",
   "metadata": {},
   "source": [
    "# 백준 온라인 저지 2750번 (정렬)\n",
    "\n",
    "#### 문제\n",
    "N개의 수가 주어졌을 때, 이를 오름차순으로 정렬하는 프로그램을 작성하시오.\n",
    "\n",
    "#### 입력\n",
    "첫째 줄에 수의 개수 N(1 ≤ N ≤ 1,000)이 주어진다. 둘째 줄부터 N개의 줄에는 숫자가 주어진다. 이 수는 절댓값이 1,000보다 작거나 같은 정수이다. 수는 중복되지 않는다.\n",
    "\n",
    "#### 출력\n",
    "첫째 줄부터 N개의 줄에 오름차순으로 정렬한 결과를 한 줄에 하나씩 출력한다."
   ]
  },
  {
   "cell_type": "markdown",
   "metadata": {},
   "source": [
    "##### JUPYTER NOTEBOOK에서는 sys.stdin.readline()이 되질 않는다. input()으로만 사용"
   ]
  },
  {
   "cell_type": "code",
   "execution_count": 2,
   "metadata": {},
   "outputs": [
    {
     "name": "stdout",
     "output_type": "stream",
     "text": [
      "입력값 :\n",
      "5\n",
      "5\n",
      "2\n",
      "3\n",
      "4\n",
      "1\n",
      "출력값 :\n",
      "1\n",
      "2\n",
      "3\n",
      "4\n",
      "5\n"
     ]
    }
   ],
   "source": [
    "#import sys\n",
    "sort_list = []\n",
    "temp = 0\n",
    "\n",
    "#num_line = int(sys.stdin.readline())\n",
    "print(\"입력값 :\")\n",
    "num_line = int(input())\n",
    "\n",
    "for i in range(num_line):\n",
    "#    sort_list.append(int(sys.stdin.readline()))\n",
    "    sort_list.append(int(input()))\n",
    "    for x in range(i, 0, -1):\n",
    "        if i == 0:\n",
    "            continue\n",
    "        elif sort_list[x-1] > sort_list[x]:\n",
    "            temp = sort_list[x-1]\n",
    "            sort_list[x-1] = sort_list[x]\n",
    "            sort_list[x] = temp\n",
    "        else:\n",
    "            continue\n",
    "\n",
    "print(\"출력값 :\")\n",
    "for i in range(num_line):\n",
    "    print(sort_list[i])"
   ]
  },
  {
   "cell_type": "code",
   "execution_count": null,
   "metadata": {},
   "outputs": [],
   "source": []
  }
 ],
 "metadata": {
  "kernelspec": {
   "display_name": "Python 3",
   "language": "python",
   "name": "python3"
  },
  "language_info": {
   "codemirror_mode": {
    "name": "ipython",
    "version": 3
   },
   "file_extension": ".py",
   "mimetype": "text/x-python",
   "name": "python",
   "nbconvert_exporter": "python",
   "pygments_lexer": "ipython3",
   "version": "3.7.3"
  }
 },
 "nbformat": 4,
 "nbformat_minor": 2
}
